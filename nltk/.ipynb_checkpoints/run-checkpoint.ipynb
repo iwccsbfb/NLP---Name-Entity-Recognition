{
 "cells": [
  {
   "cell_type": "code",
   "execution_count": 4,
   "metadata": {
    "collapsed": false
   },
   "outputs": [],
   "source": [
    "from spacy.en import English\n",
    "parser = English()\n",
    "from nltk.corpus import treebank\n"
   ]
  },
  {
   "cell_type": "code",
   "execution_count": 11,
   "metadata": {
    "collapsed": false
   },
   "outputs": [],
   "source": [
    "sents = []\n",
    "for f in treebank.fileids():\n",
    "  count = 0\n",
    "  for sent in treebank.sents(f):\n",
    "    count += 1\n",
    "    sent = ' '.join(sent).strip()\n",
    "    sents.append(sent)\n",
    "    "
   ]
  },
  {
   "cell_type": "code",
   "execution_count": 60,
   "metadata": {
    "collapsed": true
   },
   "outputs": [],
   "source": [
    "import csv\n",
    "\n",
    "# load symbols and company names\n",
    "def load_file1(f_name):\n",
    "  f = open(f_name)\n",
    "  f.readline()\n",
    "  reader = csv.reader(f, delimiter=',', quotechar='\"')\n",
    "  symbols, names = [], []\n",
    "  for line in reader:\n",
    "    symbols.append(line[0])\n",
    "    names.append(line[1])\n",
    "  return (symbols, names)\n",
    "\n",
    "# load cusip, isin, figi\n",
    "def load_file2(f_name):\n",
    "  f = open(f_name)\n",
    "  f.readline()\n",
    "  reader = csv.reader(f, delimiter=',', quotechar='\"')\n",
    "  cusips, isins, figis = [], [], []\n",
    "  for line in reader:\n",
    "    cusips.append(line[1])\n",
    "    isins.append(line[2])\n",
    "    figis.append(line[3])\n",
    "  return (cusips, isins, figis)\n",
    "\n",
    "from enum import Enum\n",
    "class IDType(Enum):\n",
    "  Ticker = 1\n",
    "  Symbol = 2\n",
    "  CompName = 3\n",
    "  CUSIP = 4\n",
    "  ISIN = 5\n",
    "  FIGI = 6\n"
   ]
  },
  {
   "cell_type": "code",
   "execution_count": 76,
   "metadata": {
    "collapsed": false
   },
   "outputs": [],
   "source": [
    "def get_random_id_generator():\n",
    "  symbols, names = load_file1('../data/NYSE.csv')\n",
    "  symbols2, names2 = load_file1('../data/NASDAQ.csv')\n",
    "  names.extend(names2)\n",
    "  symbols.extend(symbols2)\n",
    "  names, symbols = list(set(names)), list(set(symbols))\n",
    "  \n",
    "  cusips, isins, figis = load_file2('../data/bond_data.csv')\n",
    "  cusips, isins, figis = list(set(cusips)), list(set(isins)), list(set(figis))\n",
    "    \n",
    "  def fun(id_type):\n",
    "    assert type(id_type) is IDType, 'Must pass in an IDType'\n",
    "    if(id_type == IDType.Symbol or id_type == IDType.Ticker):\n",
    "      return random.sample(symbols, 1)[0]\n",
    "    elif(id_type == IDType.CompName):\n",
    "      return random.sample(names, 1)[0]\n",
    "    elif(id_type == IDType.CUSIP):\n",
    "      return random.sample(cusips, 1)[0]\n",
    "    elif(id_type == IDType.ISIN):\n",
    "      return random.sample(isins, 1)[0]\n",
    "    elif(id_type == IDType.FIGI):\n",
    "      return random.sample(figis, 1)[0]\n",
    "  return fun\n",
    "\n",
    "get_random_id = get_random_id_generator()"
   ]
  },
  {
   "cell_type": "code",
   "execution_count": 78,
   "metadata": {
    "collapsed": false
   },
   "outputs": [
    {
     "data": {
      "text/plain": [
       "[1, 2, 3, 4, 1, 2, 3, 4]"
      ]
     },
     "execution_count": 78,
     "metadata": {},
     "output_type": "execute_result"
    }
   ],
   "source": [
    "a = [1,2,3,4]\n",
    "a.extend(a)\n",
    "a"
   ]
  },
  {
   "cell_type": "code",
   "execution_count": 84,
   "metadata": {
    "collapsed": false
   },
   "outputs": [
    {
     "name": "stdout",
     "output_type": "stream",
     "text": [
      "Mr. Vinken is chairman of Elsevier N.V. , the Dutch publishing group .\n",
      "ORG\n",
      "Mr. Vinken is chairman of 228227BE3 , the Dutch publishing group .\n",
      "\n",
      "\n",
      "\n",
      "Rudolph Agnew , 55 years old and former chairman of Consolidated Gold Fields PLC , was named *-1 a nonexecutive director of this British industrial conglomerate .\n",
      "ORG\n",
      "Rudolph Agnew , 55 years old and former chairman of 90272V137 , was named * -1 a nonexecutive director of this British industrial conglomerate .\n",
      "\n",
      "\n",
      "\n",
      "A form of asbestos once used * * to make Kent cigarette filters has caused a high percentage of cancer deaths among a group of workers exposed * to it more than 30 years ago , researchers reported 0 *T*-1 .\n",
      "ORG\n",
      "A form of asbestos once used * * to make 755111BU4 cigarette filters has caused a high percentage of cancer deaths among a group of workers exposed * to it more than 30 years ago , researchers reported 0 * T*-1 .\n",
      "\n",
      "\n",
      "\n",
      "The asbestos fiber , crocidolite , is unusually resilient once it enters the lungs , with even brief exposures to it causing symptoms that *T*-1 show up decades later , researchers said 0 *T*-2 .\n",
      "The asbestos fiber , crocidolite , is unusually resilient once it enters the lungs , with even brief exposures to it causing symptoms that * T*-1 show up decades later , researchers said 0 * T*-2 .\n",
      "\n",
      "\n",
      "\n",
      "Lorillard Inc. , the unit of New York-based Loews Corp. that *T*-2 makes Kent cigarettes , stopped using crocidolite in its Micronite cigarette filters in 1956 .\n",
      "ORG\n",
      "ORG\n",
      "ORG\n",
      "ORG\n",
      "14912HRV4 , the unit of New York - based 74348YKN0 that * T*-2 makes U01668AE9 cigarettes , stopped using crocidolite in its U37342AB5 cigarette filters in 1956 .\n",
      "\n",
      "\n",
      "\n",
      "Although preliminary findings were reported *-2 more than a year ago , the latest results appear in today 's New England Journal of Medicine , a forum likely * to bring new attention to the problem .\n",
      "ORG\n",
      "Although preliminary findings were reported * -2 more than a year ago , the latest results appear in today 's 01551DAF9 , a forum likely * to bring new attention to the problem .\n",
      "\n",
      "\n",
      "\n",
      "A Lorillard spokewoman said , `` This is an old story .\n",
      "ORG\n",
      "A 02006DFM8 spokewoman said , `` This is an old story .\n",
      "\n",
      "\n",
      "\n",
      "We 're talking about years ago before anyone heard of asbestos having any questionable properties .\n",
      "We ' re talking about years ago before anyone heard of asbestos having any questionable properties .\n",
      "\n",
      "\n",
      "\n",
      "There is no asbestos in our products now . ''\n",
      "There is no asbestos in our products now . ''\n",
      "\n",
      "\n",
      "\n"
     ]
    }
   ],
   "source": [
    "def parse(parser, sent):\n",
    "  doc = parser(sent)\n",
    "  ents = list(doc.ents)\n",
    "  new_sent = []\n",
    "  last_end = 0\n",
    "  for entity in ents:\n",
    "    if(entity.label_ == 'ORG'):\n",
    "      print \"ORG\"\n",
    "      new_sent.extend([token.orth_ for token in doc[last_end:entity.start]])\n",
    "      new_sent.append(get_random_id(IDType.CUSIP))\n",
    "      last_end = entity.end\n",
    "  new_sent.extend([token.orth_ for token in doc[last_end:]])\n",
    "      #print type(entity), entity.start, entity.end\n",
    "  # print new_sent\n",
    "  return ' '.join(new_sent).strip()\n",
    "\n",
    "for sent in sents[1:10]:\n",
    "  print sent\n",
    "  print parse(parser, sent)\n",
    "  print('\\n\\n')"
   ]
  }
 ],
 "metadata": {
  "anaconda-cloud": {},
  "kernelspec": {
   "display_name": "Python [Root]",
   "language": "python",
   "name": "Python [Root]"
  },
  "language_info": {
   "codemirror_mode": {
    "name": "ipython",
    "version": 2
   },
   "file_extension": ".py",
   "mimetype": "text/x-python",
   "name": "python",
   "nbconvert_exporter": "python",
   "pygments_lexer": "ipython2",
   "version": "2.7.12"
  }
 },
 "nbformat": 4,
 "nbformat_minor": 0
}
